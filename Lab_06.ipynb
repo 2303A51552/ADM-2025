{
  "nbformat": 4,
  "nbformat_minor": 0,
  "metadata": {
    "colab": {
      "provenance": [],
      "authorship_tag": "ABX9TyMl7SM1Jwb0tKiBA+ir7VQx",
      "include_colab_link": true
    },
    "kernelspec": {
      "name": "python3",
      "display_name": "Python 3"
    },
    "language_info": {
      "name": "python"
    }
  },
  "cells": [
    {
      "cell_type": "markdown",
      "metadata": {
        "id": "view-in-github",
        "colab_type": "text"
      },
      "source": [
        "<a href=\"https://colab.research.google.com/github/2303A51552/ADM-2025/blob/main/Lab_06.ipynb\" target=\"_parent\"><img src=\"https://colab.research.google.com/assets/colab-badge.svg\" alt=\"Open In Colab\"/></a>"
      ]
    },
    {
      "cell_type": "code",
      "source": [
        "#DATA ENCODING\n",
        "import pandas as pd\n",
        "from sklearn.preprocessing import LabelEncoder, OneHotEncoder\n",
        "# Example data\n",
        "data = {'Category': ['Atharv', 'Bharghav', 'Samarth', 'Atharv', 'Atharv']}\n",
        "df = pd.DataFrame(data)\n",
        "# Label Encoding\n",
        "label_encoder = LabelEncoder()\n",
        "df['Label_Encoded'] = label_encoder.fit_transform(df['Category'])\n",
        "# One-hot Encoding\n",
        "one_hot_encoded = pd.get_dummies(df['Category'], prefix='Category')\n",
        "df = pd.concat([df, one_hot_encoded], axis=1)\n",
        "print(df)"
      ],
      "metadata": {
        "colab": {
          "base_uri": "https://localhost:8080/"
        },
        "id": "93cFGOgWDJIh",
        "outputId": "3cc4fe1a-d375-45cc-f758-0e632cfa3b4e"
      },
      "execution_count": 15,
      "outputs": [
        {
          "output_type": "stream",
          "name": "stdout",
          "text": [
            "  Category  Label_Encoded  Category_Atharv  Category_Bhairav  Category_Sakhee\n",
            "0   Atharv              0             True             False            False\n",
            "1  Bhairav              1            False              True            False\n",
            "2   Sakhee              2            False             False             True\n",
            "3   Atharv              0             True             False            False\n",
            "4   Atharv              0             True             False            False\n"
          ]
        }
      ]
    },
    {
      "cell_type": "code",
      "source": [
        "#DERIVED COLUMNS\n",
        "from datetime import datetime\n",
        "# Example data\n",
        "data = {'Name': ['Alex', 'Ava'], 'Date_of_Birth': ['2003-12-18', '2005-10-10']}\n",
        "df = pd.DataFrame(data)\n",
        "# Convert Date_of_Birth to datetime\n",
        "df['Date_of_Birth'] = pd.to_datetime(df['Date_of_Birth'])\n",
        "# Calculate Age\n",
        "current_year = datetime.now().year\n",
        "df['Age'] = current_year - df['Date_of_Birth'].dt.year\n",
        "print(df)"
      ],
      "metadata": {
        "colab": {
          "base_uri": "https://localhost:8080/"
        },
        "id": "x1Pf6V4zDWPR",
        "outputId": "5838f43a-f11f-4570-9fd8-1339b5985d84"
      },
      "execution_count": 10,
      "outputs": [
        {
          "output_type": "stream",
          "name": "stdout",
          "text": [
            "   Name Date_of_Birth  Age\n",
            "0  Alex    2003-12-18   22\n",
            "1   Ava    2005-10-10   20\n"
          ]
        }
      ]
    },
    {
      "cell_type": "code",
      "source": [
        "# Example data\n",
        "data = {'Category': ['Atharv', 'Atharv', 'Bharghav', 'Bharghav', 'Samarth'],'Value': [10, 20, 10, 30, 40]}\n",
        "df = pd.DataFrame(data)\n",
        "# Group by and aggregate\n",
        "grouped = df.groupby('Category').agg({'Value': ['sum', 'mean']})\n",
        "print(\"Grouped Data:\\n\", grouped)"
      ],
      "metadata": {
        "colab": {
          "base_uri": "https://localhost:8080/"
        },
        "id": "ERxlRVz2Eptm",
        "outputId": "5f60553c-854c-4775-b334-a5d9eda8e87c"
      },
      "execution_count": 16,
      "outputs": [
        {
          "output_type": "stream",
          "name": "stdout",
          "text": [
            "Grouped Data:\n",
            "          Value      \n",
            "           sum  mean\n",
            "Category            \n",
            "Atharv      30  15.0\n",
            "Bharghav    40  20.0\n",
            "Samarth     40  40.0\n"
          ]
        }
      ]
    },
    {
      "cell_type": "code",
      "source": [
        "# Pivot table\n",
        "pivot = df.pivot_table(index='Category', values='Value', aggfunc=['sum','mean'])\n",
        "print(\"\\nPivot Table:\\n\", pivot)"
      ],
      "metadata": {
        "colab": {
          "base_uri": "https://localhost:8080/"
        },
        "id": "h-CTv4HCJJ84",
        "outputId": "6db71152-40de-4d6f-feaa-629f8ed8b1c1"
      },
      "execution_count": 17,
      "outputs": [
        {
          "output_type": "stream",
          "name": "stdout",
          "text": [
            "\n",
            "Pivot Table:\n",
            "            sum  mean\n",
            "         Value Value\n",
            "Category            \n",
            "Atharv      30  15.0\n",
            "Bharghav    40  20.0\n",
            "Samarth     40  40.0\n"
          ]
        }
      ]
    }
  ]
}